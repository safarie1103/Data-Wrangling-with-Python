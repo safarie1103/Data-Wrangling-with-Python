{
 "cells": [
  {
   "cell_type": "markdown",
   "metadata": {},
   "source": [
    "### Task 1"
   ]
  },
  {
   "cell_type": "code",
   "execution_count": 2,
   "metadata": {
    "pycharm": {
     "is_executing": false
    }
   },
   "outputs": [],
   "source": [
    "\n",
    "import random\n",
    "\n",
    "LIMIT = 100\n",
    "random_number_list = [random.randint(0, LIMIT) for x in range(0, LIMIT)]"
   ]
  },
  {
   "cell_type": "code",
   "execution_count": 2,
   "metadata": {},
   "outputs": [
    {
     "data": {
      "text/plain": [
       "[42,\n",
       " 76,\n",
       " 23,\n",
       " 63,\n",
       " 82,\n",
       " 2,\n",
       " 27,\n",
       " 24,\n",
       " 1,\n",
       " 90,\n",
       " 61,\n",
       " 12,\n",
       " 99,\n",
       " 70,\n",
       " 43,\n",
       " 70,\n",
       " 14,\n",
       " 25,\n",
       " 10,\n",
       " 49,\n",
       " 48,\n",
       " 84,\n",
       " 55,\n",
       " 75,\n",
       " 20,\n",
       " 0,\n",
       " 79,\n",
       " 56,\n",
       " 55,\n",
       " 97,\n",
       " 54,\n",
       " 63,\n",
       " 65,\n",
       " 58,\n",
       " 10,\n",
       " 97,\n",
       " 89,\n",
       " 59,\n",
       " 48,\n",
       " 83,\n",
       " 61,\n",
       " 33,\n",
       " 11,\n",
       " 0,\n",
       " 96,\n",
       " 47,\n",
       " 93,\n",
       " 52,\n",
       " 81,\n",
       " 24,\n",
       " 9,\n",
       " 8,\n",
       " 95,\n",
       " 87,\n",
       " 16,\n",
       " 52,\n",
       " 98,\n",
       " 9,\n",
       " 80,\n",
       " 28,\n",
       " 59,\n",
       " 65,\n",
       " 54,\n",
       " 64,\n",
       " 89,\n",
       " 45,\n",
       " 23,\n",
       " 79,\n",
       " 70,\n",
       " 89,\n",
       " 57,\n",
       " 1,\n",
       " 69,\n",
       " 1,\n",
       " 80,\n",
       " 35,\n",
       " 67,\n",
       " 98,\n",
       " 59,\n",
       " 88,\n",
       " 74,\n",
       " 23,\n",
       " 79,\n",
       " 6,\n",
       " 85,\n",
       " 39,\n",
       " 65,\n",
       " 16,\n",
       " 95,\n",
       " 81,\n",
       " 80,\n",
       " 19,\n",
       " 85,\n",
       " 86,\n",
       " 13,\n",
       " 44,\n",
       " 91,\n",
       " 83,\n",
       " 63,\n",
       " 10]"
      ]
     },
     "execution_count": 2,
     "metadata": {},
     "output_type": "execute_result"
    }
   ],
   "source": [
    "random_number_list"
   ]
  },
  {
   "cell_type": "markdown",
   "metadata": {},
   "source": [
    "### Task 2"
   ]
  },
  {
   "cell_type": "code",
   "execution_count": 3,
   "metadata": {},
   "outputs": [],
   "source": [
    "list_with_divisible_by_3 = [a for a in random_number_list if a % 3 == 0]"
   ]
  },
  {
   "cell_type": "code",
   "execution_count": 4,
   "metadata": {},
   "outputs": [
    {
     "data": {
      "text/plain": [
       "[42,\n",
       " 63,\n",
       " 27,\n",
       " 24,\n",
       " 90,\n",
       " 12,\n",
       " 99,\n",
       " 48,\n",
       " 84,\n",
       " 75,\n",
       " 0,\n",
       " 54,\n",
       " 63,\n",
       " 48,\n",
       " 33,\n",
       " 0,\n",
       " 96,\n",
       " 93,\n",
       " 81,\n",
       " 24,\n",
       " 9,\n",
       " 87,\n",
       " 9,\n",
       " 54,\n",
       " 45,\n",
       " 57,\n",
       " 69,\n",
       " 6,\n",
       " 39,\n",
       " 81,\n",
       " 63]"
      ]
     },
     "execution_count": 4,
     "metadata": {},
     "output_type": "execute_result"
    }
   ],
   "source": [
    "list_with_divisible_by_3"
   ]
  },
  {
   "cell_type": "markdown",
   "metadata": {},
   "source": [
    "### Task 3"
   ]
  },
  {
   "cell_type": "code",
   "execution_count": 5,
   "metadata": {},
   "outputs": [
    {
     "data": {
      "text/plain": [
       "69"
      ]
     },
     "execution_count": 5,
     "metadata": {},
     "output_type": "execute_result"
    }
   ],
   "source": [
    "length_of_random_list = len(random_number_list)\n",
    "length_of_3_divisible_list = len(list_with_divisible_by_3)\n",
    "difference = length_of_random_list - length_of_3_divisible_list\n",
    "difference"
   ]
  },
  {
   "cell_type": "markdown",
   "metadata": {},
   "source": [
    "### Task 4"
   ]
  },
  {
   "cell_type": "code",
   "execution_count": 7,
   "metadata": {},
   "outputs": [
    {
     "data": {
      "text/plain": [
       "[68, 63, 65, 55, 59, 66, 69, 65, 61, 68]"
      ]
     },
     "execution_count": 7,
     "metadata": {},
     "output_type": "execute_result"
    }
   ],
   "source": [
    "NUMBER_OF_EXPERIEMENTS = 10\n",
    "difference_list = []\n",
    "for i in range(0, NUMBER_OF_EXPERIEMENTS):\n",
    "    random_number_list = [random.randint(0, LIMIT) for x in range(0, LIMIT)]\n",
    "    list_with_divisible_by_3 = [a for a in random_number_list if a % 3 == 0]\n",
    "    \n",
    "    length_of_random_list = len(random_number_list)\n",
    "    length_of_3_divisible_list = len(list_with_divisible_by_3)\n",
    "    difference = length_of_random_list - length_of_3_divisible_list\n",
    "    \n",
    "    difference_list.append(difference)\n",
    "difference_list"
   ]
  },
  {
   "cell_type": "code",
   "execution_count": 10,
   "metadata": {},
   "outputs": [
    {
     "data": {
      "text/plain": [
       "63.9"
      ]
     },
     "execution_count": 10,
     "metadata": {},
     "output_type": "execute_result"
    }
   ],
   "source": [
    "avg_diff = sum(difference_list) / float(len(difference_list))\n",
    "avg_diff"
   ]
  }
 ],
 "metadata": {
  "kernelspec": {
   "display_name": "Python 3",
   "language": "python",
   "name": "python3"
  },
  "language_info": {
   "codemirror_mode": {
    "name": "ipython",
    "version": 3
   },
   "file_extension": ".py",
   "mimetype": "text/x-python",
   "name": "python",
   "nbconvert_exporter": "python",
   "pygments_lexer": "ipython3",
   "version": "3.6.6"
  },
  "pycharm": {
   "stem_cell": {
    "cell_type": "raw",
    "source": [],
    "metadata": {
     "collapsed": false
    }
   }
  }
 },
 "nbformat": 4,
 "nbformat_minor": 2
}